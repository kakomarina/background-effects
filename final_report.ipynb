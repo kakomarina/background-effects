{
 "cells": [
  {
   "cell_type": "markdown",
   "metadata": {},
   "source": [
    "# Background effects - Final Report\n",
    "## Image Processing - ICMC USP - 2020\n",
    "\n",
    "\n",
    "### Authors:\n",
    "Beatriz Monteiro - 9778619 \\\n",
    "Giovana Craveiro - 9791264 \\\n",
    "Marcelo de Moraes - 9791048 \\\n",
    "Marina Kako - 9763151\n"
   ]
  },
  {
   "cell_type": "code",
   "execution_count": 3,
   "metadata": {},
   "outputs": [
    {
     "name": "stdout",
     "output_type": "stream",
     "text": [
      "\n"
     ]
    }
   ],
   "source": [
    "\"\"\" apagar dps\n",
    "1, The main objective of the project (3 pts),\n",
    "2. The description of input images (with examples) including the source of the images— website, paper, acquired by the student(s) (3 pts),\n",
    "2. Description of steps and methods used in the project,\n",
    "3. Results obtained discussing cases of success and failures,\n",
    "4. Names and descriptions of the roles of every student in the project (this will also be assessed via code commits)\n",
    "\"\"\""
   ]
  },
  {
   "cell_type": "markdown",
   "metadata": {},
   "source": [
    "### Main objective\n",
    "\n",
    "This project aims to change the background of a given image with a centered object on it by using image segmentation. The process necessarily includes image segmentation, but might also include background removal, background blur or background change of some kind, such as color change or filtering. The applications of the project are entirely focused on the arts, as aesthetics purposes in photography or personal entertainment. \\\n",
    "\n",
    "In the first place, we are going to implement background change in images with simple backgrounds, that means that they do not have many different colors or objects. For that, thresholding methods are going to be used. In a second moment, we are going to implement the segmentation for images with more complex backgrounds, with algorithms such as image segmentation with clustering. \n"
   ]
  },
  {
   "cell_type": "markdown",
   "metadata": {},
   "source": [
    "### Images"
   ]
  },
  {
   "cell_type": "markdown",
   "metadata": {},
   "source": []
  },
  {
   "cell_type": "markdown",
   "metadata": {},
   "source": [
    "### Steps\n",
    "1. Pre-process the image with denoising methods (median filtering) \n",
    "2. According to each method of segmentation:\n",
    "    * Using threshold:\n",
    "        1. Calculate the histogram for the denoised image\n",
    "        2. Use the histogram to automatically calculate the threshold value by the Triangle Thresholding Method and apply the threshold to the image, getting a matrix of 0s and 1s. The Triangle Thresholding Method chooses the value that forms the triangle with the biggest d (as shown on the image above) as the threshold. \n",
    "        [![Triangle Thresholding](https://aws1.discourse-cdn.com/business4/uploads/imagej/original/1X/c792d7c9ca37e6ebe5c8537ba63b3de143f5d497.png)](https://aws1.discourse-cdn.com/business4/uploads/imagej/original/1X/c792d7c9ca37e6ebe5c8537ba63b3de143f5d497.png)\n",
    "    * Using clustering:\n",
    "        1. Apply KMeans method to get the labels and the clusters in the image\n",
    "        2. Normalize the image and show it to the user on a grapich interface, where he can choose the colors presented on the background by clicking on the pixels\n",
    "\n",
    "3. Use the altered image as a map to know where to apply the desired effect on the original image\n",
    "    * For the threshold method: apply the change to every pixel of the line until it reaches a black pixel, then change to the next line. Do this for both the right side and left side of the image. \n",
    "    * For the clustering method: for every pixel that is the color chosen by the user, change the background\n"
   ]
  },
  {
   "cell_type": "markdown",
   "metadata": {},
   "source": [
    "### Demonstration and results"
   ]
  },
  {
   "cell_type": "markdown",
   "metadata": {},
   "source": [
    "~~ demonstração aqui ~~ chama as funções sem o graphic interface pro report (mas no video a gente usa ele)"
   ]
  },
  {
   "cell_type": "code",
   "execution_count": null,
   "metadata": {},
   "outputs": [],
   "source": []
  },
  {
   "cell_type": "markdown",
   "metadata": {},
   "source": [
    "In conclusion, we observed that the thresholding method is efficient for pictures with a strong contrast between the background and the main object. Whereas the clustering does not depend on the contrast, but the colors. It works well if the central object does not have the same color as the background, and these cases are easiest to find, therefore making this method more general. \n",
    "\n",
    "Another important observation is that the noise reduction in the pre-processing is relevant for the image segmentation, as it makes the image's borders less noisy and cleaner. \n",
    "\n",
    "The image results are not perfect, but the task we proposed is a difficult one since the objective did not include machine learning or artificial intelligence of any kind. "
   ]
  }
 ],
 "metadata": {
  "kernelspec": {
   "display_name": "Python 3",
   "language": "python",
   "name": "python3"
  },
  "language_info": {
   "codemirror_mode": {
    "name": "ipython",
    "version": 3
   },
   "file_extension": ".py",
   "mimetype": "text/x-python",
   "name": "python",
   "nbconvert_exporter": "python",
   "pygments_lexer": "ipython3",
   "version": "3.8.2"
  }
 },
 "nbformat": 4,
 "nbformat_minor": 4
}
